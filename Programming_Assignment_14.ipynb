{
  "cells": [
    {
      "cell_type": "markdown",
      "metadata": {
        "id": "fQAhzCAkn-NC"
      },
      "source": [
        "### 1. Define a class with a generator which can iterate the numbers, which are divisible by 7, between a given range 0 and n."
      ]
    },
    {
      "cell_type": "code",
      "execution_count": 1,
      "metadata": {
        "colab": {
          "base_uri": "https://localhost:8080/"
        },
        "id": "UssBniNHn-NC",
        "outputId": "74af1854-99a4-400f-d459-c06b2dcd2bf6"
      },
      "outputs": [
        {
          "output_type": "stream",
          "name": "stdout",
          "text": [
            "[0, 7, 14, 21, 28, 35, 42, 49, 56, 63, 70, 77, 84, 91, 98]\n"
          ]
        }
      ],
      "source": [
        "class generator: \n",
        "    def divisible7(self,n):\n",
        "        for i in range(n+1):\n",
        "            if i%7 == 0:\n",
        "                yield i\n",
        "\n",
        "x = generator()\n",
        "print([i for i in x.divisible7(100)])"
      ]
    },
    {
      "cell_type": "markdown",
      "metadata": {
        "id": "lAJ9eogtn-NF"
      },
      "source": [
        "### 2. Write a program to compute the frequency of the words from the input. The output should output after sorting the key alphanumerically. \n",
        "\n",
        "\n",
        "Suppose the following input is supplied to the program:\n",
        "\n",
        "New to Python or choosing between Python 2 and Python 3? Read Python 2 or Python 3.\n",
        "\n",
        "Then, the output should be:\n",
        "\n",
        "2:2\n",
        "\n",
        "3.:1\n",
        "\n",
        "3?:1\n",
        "\n",
        "New:1\n",
        "\n",
        "Python:5\n",
        "\n",
        "Read:1\n",
        "\n",
        "and:1\n",
        "\n",
        "between:1\n",
        "\n",
        "choosing:1\n",
        "\n",
        "or:2\n",
        "\n",
        "to:1"
      ]
    },
    {
      "cell_type": "code",
      "execution_count": 7,
      "metadata": {
        "colab": {
          "base_uri": "https://localhost:8080/"
        },
        "id": "dNqQE2oUn-NG",
        "outputId": "b1892724-6cce-429b-c248-461a62d231ff"
      },
      "outputs": [
        {
          "output_type": "stream",
          "name": "stdout",
          "text": [
            "2 : 2\n",
            "3 : 1\n",
            "3? : 1\n",
            "New : 1\n",
            "Python : 5\n",
            "Read : 1\n",
            "and : 1\n",
            "between : 1\n",
            "choosing : 1\n",
            "or : 2\n",
            "to : 1\n"
          ]
        }
      ],
      "source": [
        "def countFreq(string):\n",
        "    string_list = string.split(' ')\n",
        "    out_dict = {}\n",
        "    \n",
        "    for s in string_list:\n",
        "        if s in out_dict.keys():\n",
        "            out_dict[s] += 1\n",
        "        else:\n",
        "            out_dict[s] = 1\n",
        "            \n",
        "    for k, v in sorted(out_dict.items()):\n",
        "        print(k, ':', v)\n",
        "        \n",
        "countFreq('New to Python or choosing between Python 2 and Python 3? Read Python 2 or Python 3')"
      ]
    },
    {
      "cell_type": "markdown",
      "metadata": {
        "id": "LIXs8a6vn-NI"
      },
      "source": [
        "### 3. Define a class Person and its two child classes: Male and Female. All classes have a method \"getGender\" which can print \"Male\" for Male class and \"Female\" for Female class."
      ]
    },
    {
      "cell_type": "code",
      "execution_count": 6,
      "metadata": {
        "colab": {
          "base_uri": "https://localhost:8080/"
        },
        "id": "ycCC8H3gn-NJ",
        "outputId": "807bb2d0-3a75-4855-9573-d0bbd3bc4835"
      },
      "outputs": [
        {
          "output_type": "stream",
          "name": "stdout",
          "text": [
            "Male\n",
            "Female\n"
          ]
        }
      ],
      "source": [
        "class Person:\n",
        "    def getGender(self):\n",
        "        pass\n",
        "\n",
        "class Male(Person):\n",
        "    def getGender(self):\n",
        "        print(\"Male\")\n",
        "        \n",
        "class Female(Person):\n",
        "    def getGender(self):\n",
        "        print(\"Female\")\n",
        "\n",
        "male = Male()\n",
        "female = Female()\n",
        "male.getGender()\n",
        "female.getGender()"
      ]
    },
    {
      "cell_type": "markdown",
      "metadata": {
        "id": "uGomxZuOn-NM"
      },
      "source": [
        "### 4. Please write a program to generate all sentences where subject is in [\"I\", \"You\"] and verb is in [\"Play\", \"Love\"] and the object is in [\"Hockey\",\"Football\"]."
      ]
    },
    {
      "cell_type": "code",
      "execution_count": 5,
      "metadata": {
        "colab": {
          "base_uri": "https://localhost:8080/"
        },
        "id": "uS9LGR9Ln-NM",
        "outputId": "f44ad7b0-aa5d-4a69-cc69-03b3e0e2f50a"
      },
      "outputs": [
        {
          "output_type": "stream",
          "name": "stdout",
          "text": [
            "I Play Hockey\n",
            "I Play Football\n",
            "I Love Hockey\n",
            "I Love Football\n",
            "You Play Hockey\n",
            "You Play Football\n",
            "You Love Hockey\n",
            "You Love Football\n"
          ]
        }
      ],
      "source": [
        "subject=[\"I\", \"You\"]\n",
        "verb=[\"Play\", \"Love\"]\n",
        "obj=[\"Hockey\",\"Football\"]\n",
        "\n",
        "sentence_list = []\n",
        "\n",
        "for i in subject:\n",
        "    for j in verb:\n",
        "        for k in obj:\n",
        "            sentence_list.append(i + \" \" + j + \" \" + k)\n",
        "            \n",
        "for sentence in sentence_list:\n",
        "    print(sentence)"
      ]
    },
    {
      "cell_type": "markdown",
      "metadata": {
        "id": "3vG8ZEOqn-NN"
      },
      "source": [
        "### 5. Please write a program to compress and decompress the string \"hello world!hello world!hello world!hello world!\"."
      ]
    },
    {
      "cell_type": "code",
      "execution_count": 4,
      "metadata": {
        "colab": {
          "base_uri": "https://localhost:8080/"
        },
        "id": "Zo3dSCzSn-NN",
        "outputId": "020e2b49-93d0-4d48-a230-dc1dece6c9b1"
      },
      "outputs": [
        {
          "output_type": "stream",
          "name": "stdout",
          "text": [
            "Compressed string is: b'x\\x9c\\xcbH\\xcd\\xc9\\xc9WPp\\xcaH,\\xabLT\\xcc\\x00\\xf3\\x08r\\x00\\xfe8\\x12\\xe1'\n",
            "Decompressed string is: b'hello  Bhavya!hello Bhavya!hello Bhavya!hello Bhavya!'\n"
          ]
        }
      ],
      "source": [
        "import zlib\n",
        "\n",
        "s = 'hello  Bhavya!hello Bhavya!hello Bhavya!hello Bhavya!'\n",
        "\n",
        "compress_string = zlib.compress(bytes(s, 'utf-8'))\n",
        "\n",
        "print(f\"Compressed string is: {compress_string}\")\n",
        "print(f\"Decompressed string is: {zlib.decompress(compress_string)}\")"
      ]
    },
    {
      "cell_type": "markdown",
      "metadata": {
        "id": "yYgILXOgn-NN"
      },
      "source": [
        "### 6. Please write a binary search function which searches an item in a sorted list. The function should return the index of element to be searched in the list."
      ]
    },
    {
      "cell_type": "code",
      "execution_count": 2,
      "metadata": {
        "colab": {
          "base_uri": "https://localhost:8080/"
        },
        "id": "jmIwlFMKn-NO",
        "outputId": "7f9fa1cf-178c-4586-e22e-8fedb4768053"
      },
      "outputs": [
        {
          "output_type": "stream",
          "name": "stdout",
          "text": [
            "The index of 45 in list is 3\n"
          ]
        }
      ],
      "source": [
        "def binarySearch(list1,n):\n",
        "    low = 0\n",
        "    high = len(list1)\n",
        "    mid = 0\n",
        "    \n",
        "    while low <= high:\n",
        "        mid = (low+high)//2\n",
        "        if list1[mid] < n:\n",
        "            low = mid+1\n",
        "        elif list1[mid] > n:\n",
        "            high = mid - 1\n",
        "        else:\n",
        "            return mid\n",
        "    return -1\n",
        "\n",
        "sorted_list = [1 ,5,13,45,55,89,119,156]\n",
        "print(f\"The index of 45 in list is {binarySearch(sorted_list,45)}\")"
      ]
    }
  ],
  "metadata": {
    "kernelspec": {
      "display_name": "Python 3",
      "language": "python",
      "name": "python3"
    },
    "language_info": {
      "codemirror_mode": {
        "name": "ipython",
        "version": 3
      },
      "file_extension": ".py",
      "mimetype": "text/x-python",
      "name": "python",
      "nbconvert_exporter": "python",
      "pygments_lexer": "ipython3",
      "version": "3.8.3"
    },
    "colab": {
      "name": "Programming_Assignment_14.ipynb",
      "provenance": []
    }
  },
  "nbformat": 4,
  "nbformat_minor": 0
}